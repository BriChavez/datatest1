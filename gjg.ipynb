{
 "cells": [
  {
   "cell_type": "code",
   "execution_count": 30,
   "metadata": {},
   "outputs": [],
   "source": [
    "class Artist:\n",
    "    def __init__(self, artist, name_id, artist_id, dob, genre):\n",
    "        self.artist = artist\n",
    "        self.artist_id = artist_id\n",
    "        self.name_id = name_id\n",
    "        self.dob = dob\n",
    "        self.genre = genre\n",
    "        \n",
    "        print(artist)\n",
    "        print(artist_id)\n",
    "        print(name_id)\n",
    "        print(dob)\n",
    "        print(genre)\n",
    "\n",
    "class Song:\n",
    "    def __init__(self, name_id, title, length, lyrics):\n",
    "        self.name_id = name_id\n",
    "        self.title = title\n",
    "        self.length = length\n",
    "        self.lyrics = lyrics\n",
    "        \n",
    "        print(name_id)\n",
    "        print(title)\n",
    "        print(length)\n",
    "        print(lyrics)"
   ]
  },
  {
   "cell_type": "code",
   "execution_count": 61,
   "metadata": {},
   "outputs": [
    {
     "name": "stdout",
     "output_type": "stream",
     "text": [
      "L7\n",
      "94582612183552\n",
      "L7-94582612183552\n",
      "August 1st, 1960\n",
      "Riot Grrrls\n",
      "94582612183552\n",
      "Fast and Frightening\n",
      "2:24\n",
      "Her glance hits me like lightning, I heard that girl is fast and frightening, Dirty hair and a laugh that's mean, Her neighbors call her an evil machine\n",
      "Erykah Badu\n",
      "94582612183584\n",
      "Erykah Badu-94582612183584\n",
      "Febuary 26th, 1971\n",
      "R&B\n",
      "94582612183584\n",
      "Next Lifetime\n",
      "6:30\n",
      "Now what am I supposed to do, When I want you in my world, (Want you in my world), But how can I want you for myself, When I'm already someone's girl\n",
      "Manu Chao\n",
      "94582612183616\n",
      "Manu Chao-94582612183616\n",
      "June 20th, 1961\n",
      "Reggae\n",
      "94582612183616\n",
      "Bongo Bong\n",
      "4:13\n",
      "Mama was queen of the mambo, Papa was king of the Congo, Deep down in a jungle, I started banging my first bongo, Every monkey like to be, In my place instead of me, 'Cause I'm the king of Bongo, baby, I'm the king of Bongo Bong\n"
     ]
    }
   ],
   "source": [
    "id_list = [id(1),id(2), id(3)]\n",
    "\n",
    "id_l7=f'{id_list[0]}'   \n",
    "l7 = Artist(\"L7\", \"L7-\" + id_l7, id_l7, \"August 1st, 1960\", \"Riot Grrrls\")\n",
    "l7_song = Song(id_l7, \"Fast and Frightening\", \"2:24\", \"Her glance hits me like lightning, I heard that girl is fast and frightening, Dirty hair and a laugh that's mean, Her neighbors call her an evil machine\")\n",
    "\n",
    "id_badu=f'{id_list[1]}'\n",
    "badu = Artist(\"Erykah Badu\", \"Erykah Badu-\" + id_badu, id_badu, \"Febuary 26th, 1971\", \"R&B\")\n",
    "badu_song = Song(id_badu, \"Next Lifetime\", \"6:30\", \"Now what am I supposed to do, When I want you in my world, (Want you in my world), But how can I want you for myself, When I'm already someone's girl\")\n",
    "    \n",
    "id_manu=f'{id_list[2]}'\n",
    "manu = Artist(\"Manu Chao\", \"Manu Chao-\" + id_manu, id_manu, \"June 20th, 1961\", \"Reggae\")\n",
    "manu_song = Song(id_manu, \"Bongo Bong\", \"4:13\", \"Mama was queen of the mambo, Papa was king of the Congo, Deep down in a jungle, I started banging my first bongo, Every monkey like to be, In my place instead of me, 'Cause I'm the king of Bongo, baby, I'm the king of Bongo Bong\")\n"
   ]
  },
  {
   "cell_type": "code",
   "execution_count": 60,
   "metadata": {},
   "outputs": [
    {
     "name": "stdout",
     "output_type": "stream",
     "text": [
      "No Artist is listed with that ID\n"
     ]
    }
   ],
   "source": [
    "\n",
    "input_id = input(\"Enter an artist's ID to see if they are in the database\")\n",
    "if input_id in id_list:\n",
    "    print(\"Your artist is listed\")\n",
    "else: print(\"No Artist is listed with that ID\")"
   ]
  },
  {
   "cell_type": "code",
   "execution_count": 58,
   "metadata": {},
   "outputs": [
    {
     "name": "stdout",
     "output_type": "stream",
     "text": [
      "yay\n"
     ]
    }
   ],
   "source": [
    "\n",
    "# artist_id_dict = {\"l7_key\": [id_l7, \"L7\", \"Fast and Frightening\"],\n",
    "#                   \"badu_key\": [id_badu, \"Erykah Badu\", \"Next Lifetime\"],\n",
    "#                   \"manu_key\": [id_manu, \"Manu Chao\", \"Bongo Bong\"]}\n",
    "\n",
    "artist_list_dict = {\"name_key\": [\"L7\", \"Erykah Badu\", \"Manu Chao\"],\n",
    "                    \"song_key\": [\"Fast and Frightening\", \"Next Lifetime\", \"Bongo Bong\"]}\n",
    "\n",
    "artist_song_dict = {\"l7_key\": [\"Fast and Frightening\", \"Pretend We're Dead\", \"Worn Out\"],\n",
    "                    \"badu_key\": [\"Next Lifetime\", \"Tyrone\", \"Appletree\"],\n",
    "                    \"manu_key\": [\"Bongo Bong\"], [\"Me Gusta Tu\"], [\"Rumba in Barcelona\"]}\n",
    "song_input = input(\"enter a song\")\n",
    "artist_input = input(\"enter a artist\")\n",
    "\n",
    "if artist_input in artist_list_dict['name_key'] and song_input in artist_list_dict['song_key']:\n",
    "    print (\"yay\")\n",
    "else:\n",
    "    print{\"try again\"}\n",
    "\n",
    "# artist_song = song_input + artist_input\n",
    "# artist_list = artist_list\n",
    "# if hmm in artist_list:\n",
    "    \n",
    "# print(artist_list)\n"
   ]
  },
  {
   "cell_type": "code",
   "execution_count": null,
   "metadata": {},
   "outputs": [],
   "source": []
  },
  {
   "cell_type": "code",
   "execution_count": 59,
   "metadata": {},
   "outputs": [
    {
     "ename": "KeyboardInterrupt",
     "evalue": "Interrupted by user",
     "output_type": "error",
     "traceback": [
      "\u001b[0;31m---------------------------------------------------------------------------\u001b[0m",
      "\u001b[0;31mKeyboardInterrupt\u001b[0m                         Traceback (most recent call last)",
      "\u001b[0;32m/tmp/ipykernel_6536/256120083.py\u001b[0m in \u001b[0;36m<module>\u001b[0;34m\u001b[0m\n\u001b[0;32m----> 1\u001b[0;31m \u001b[0madd_artist\u001b[0m \u001b[0;34m=\u001b[0m \u001b[0minput\u001b[0m\u001b[0;34m(\u001b[0m\u001b[0;34m\"Would you like to add an artist to this list?\"\u001b[0m\u001b[0;34m)\u001b[0m\u001b[0;34m\u001b[0m\u001b[0;34m\u001b[0m\u001b[0m\n\u001b[0m\u001b[1;32m      2\u001b[0m \u001b[0;32mif\u001b[0m \u001b[0madd_artist\u001b[0m \u001b[0;34m==\u001b[0m \u001b[0;34m\"yes\"\u001b[0m\u001b[0;34m:\u001b[0m\u001b[0;34m\u001b[0m\u001b[0;34m\u001b[0m\u001b[0m\n\u001b[1;32m      3\u001b[0m     \u001b[0;32mclass\u001b[0m \u001b[0mNew_Artist\u001b[0m\u001b[0;34m:\u001b[0m\u001b[0;34m\u001b[0m\u001b[0;34m\u001b[0m\u001b[0m\n\u001b[1;32m      4\u001b[0m         \u001b[0;32mdef\u001b[0m \u001b[0m__init__\u001b[0m\u001b[0;34m(\u001b[0m\u001b[0mself\u001b[0m\u001b[0;34m,\u001b[0m \u001b[0minputed_name\u001b[0m\u001b[0;34m,\u001b[0m \u001b[0minputed_song\u001b[0m\u001b[0;34m)\u001b[0m\u001b[0;34m:\u001b[0m\u001b[0;34m\u001b[0m\u001b[0;34m\u001b[0m\u001b[0m\n\u001b[1;32m      5\u001b[0m             \u001b[0mself\u001b[0m\u001b[0;34m.\u001b[0m\u001b[0minputed_name\u001b[0m \u001b[0;34m=\u001b[0m \u001b[0minputed_name\u001b[0m\u001b[0;34m\u001b[0m\u001b[0;34m\u001b[0m\u001b[0m\n",
      "\u001b[0;32m~/deb/deb/ch1/ep6/venv/lib/python3.7/site-packages/ipykernel/kernelbase.py\u001b[0m in \u001b[0;36mraw_input\u001b[0;34m(self, prompt)\u001b[0m\n\u001b[1;32m   1163\u001b[0m             \u001b[0mself\u001b[0m\u001b[0;34m.\u001b[0m\u001b[0m_parent_ident\u001b[0m\u001b[0;34m[\u001b[0m\u001b[0;34m\"shell\"\u001b[0m\u001b[0;34m]\u001b[0m\u001b[0;34m,\u001b[0m\u001b[0;34m\u001b[0m\u001b[0;34m\u001b[0m\u001b[0m\n\u001b[1;32m   1164\u001b[0m             \u001b[0mself\u001b[0m\u001b[0;34m.\u001b[0m\u001b[0mget_parent\u001b[0m\u001b[0;34m(\u001b[0m\u001b[0;34m\"shell\"\u001b[0m\u001b[0;34m)\u001b[0m\u001b[0;34m,\u001b[0m\u001b[0;34m\u001b[0m\u001b[0;34m\u001b[0m\u001b[0m\n\u001b[0;32m-> 1165\u001b[0;31m             \u001b[0mpassword\u001b[0m\u001b[0;34m=\u001b[0m\u001b[0;32mFalse\u001b[0m\u001b[0;34m,\u001b[0m\u001b[0;34m\u001b[0m\u001b[0;34m\u001b[0m\u001b[0m\n\u001b[0m\u001b[1;32m   1166\u001b[0m         )\n\u001b[1;32m   1167\u001b[0m \u001b[0;34m\u001b[0m\u001b[0m\n",
      "\u001b[0;32m~/deb/deb/ch1/ep6/venv/lib/python3.7/site-packages/ipykernel/kernelbase.py\u001b[0m in \u001b[0;36m_input_request\u001b[0;34m(self, prompt, ident, parent, password)\u001b[0m\n\u001b[1;32m   1203\u001b[0m             \u001b[0;32mexcept\u001b[0m \u001b[0mKeyboardInterrupt\u001b[0m\u001b[0;34m:\u001b[0m\u001b[0;34m\u001b[0m\u001b[0;34m\u001b[0m\u001b[0m\n\u001b[1;32m   1204\u001b[0m                 \u001b[0;31m# re-raise KeyboardInterrupt, to truncate traceback\u001b[0m\u001b[0;34m\u001b[0m\u001b[0;34m\u001b[0m\u001b[0;34m\u001b[0m\u001b[0m\n\u001b[0;32m-> 1205\u001b[0;31m                 \u001b[0;32mraise\u001b[0m \u001b[0mKeyboardInterrupt\u001b[0m\u001b[0;34m(\u001b[0m\u001b[0;34m\"Interrupted by user\"\u001b[0m\u001b[0;34m)\u001b[0m \u001b[0;32mfrom\u001b[0m \u001b[0;32mNone\u001b[0m\u001b[0;34m\u001b[0m\u001b[0;34m\u001b[0m\u001b[0m\n\u001b[0m\u001b[1;32m   1206\u001b[0m             \u001b[0;32mexcept\u001b[0m \u001b[0mException\u001b[0m\u001b[0;34m:\u001b[0m\u001b[0;34m\u001b[0m\u001b[0;34m\u001b[0m\u001b[0m\n\u001b[1;32m   1207\u001b[0m                 \u001b[0mself\u001b[0m\u001b[0;34m.\u001b[0m\u001b[0mlog\u001b[0m\u001b[0;34m.\u001b[0m\u001b[0mwarning\u001b[0m\u001b[0;34m(\u001b[0m\u001b[0;34m\"Invalid Message:\"\u001b[0m\u001b[0;34m,\u001b[0m \u001b[0mexc_info\u001b[0m\u001b[0;34m=\u001b[0m\u001b[0;32mTrue\u001b[0m\u001b[0;34m)\u001b[0m\u001b[0;34m\u001b[0m\u001b[0;34m\u001b[0m\u001b[0m\n",
      "\u001b[0;31mKeyboardInterrupt\u001b[0m: Interrupted by user"
     ]
    }
   ],
   "source": [
    "\n",
    "add_artist = input(\"Would you like to add an artist to this list?\")\n",
    "if add_artist == \"yes\":\n",
    "    class New_Artist:\n",
    "        def __init__(self, inputed_name, inputed_song):\n",
    "            self.inputed_name = inputed_name\n",
    "            self.inputed_song = inputed_song\n",
    "        # def show_full_name(self):\n",
    "            return self.inputed_name + '-' + self.inputed_song\n",
    "        @classmethod\n",
    "        def get_user_input(self):\n",
    "            inputed_name = input('Enter an artists name: ')\n",
    "            inputed_song = input('Enter a song name by this artist')\n",
    "            print(inputed_song,  \" by \", inputed_name)\n",
    "    new_artist = New_Artist.get_user_input()\n",
    "    # new_artist.show_full_name()\n",
    "\n",
    "else:\n",
    "    print(\"That's okay, i hope you found what you're looking for\")\n",
    "\n"
   ]
  }
 ],
 "metadata": {
  "interpreter": {
   "hash": "c3300d21e6c288c93a0721a335e9ebb81851878f5024fddd569be75caa69b8a3"
  },
  "kernelspec": {
   "display_name": "Python 3.7.13 ('venv': venv)",
   "language": "python",
   "name": "python3"
  },
  "language_info": {
   "codemirror_mode": {
    "name": "ipython",
    "version": 3
   },
   "file_extension": ".py",
   "mimetype": "text/x-python",
   "name": "python",
   "nbconvert_exporter": "python",
   "pygments_lexer": "ipython3",
   "version": "3.7.13"
  },
  "orig_nbformat": 4
 },
 "nbformat": 4,
 "nbformat_minor": 2
}
